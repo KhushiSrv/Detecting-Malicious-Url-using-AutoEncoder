{
 "cells": [
  {
   "cell_type": "code",
   "execution_count": 39,
   "metadata": {},
   "outputs": [],
   "source": [
    "import pandas as pd\n",
    "from sklearn.model_selection import train_test_split"
   ]
  },
  {
   "cell_type": "code",
   "execution_count": 40,
   "metadata": {},
   "outputs": [
    {
     "name": "stdout",
     "output_type": "stream",
     "text": [
      "(932078, 7)\n"
     ]
    }
   ],
   "source": [
    "df = pd.read_csv(\"url_enriched_data.csv\")\n",
    "print(df.shape)"
   ]
  },
  {
   "cell_type": "code",
   "execution_count": 41,
   "metadata": {},
   "outputs": [
    {
     "name": "stdout",
     "output_type": "stream",
     "text": [
      "False\n"
     ]
    }
   ],
   "source": [
    "print(df.isnull().values.any())"
   ]
  },
  {
   "cell_type": "code",
   "execution_count": 42,
   "metadata": {},
   "outputs": [
    {
     "data": {
      "text/plain": [
       "label\n",
       "1    587257\n",
       "0    344821\n",
       "Name: count, dtype: int64"
      ]
     },
     "execution_count": 42,
     "metadata": {},
     "output_type": "execute_result"
    }
   ],
   "source": [
    "df['label'].value_counts()"
   ]
  },
  {
   "cell_type": "code",
   "execution_count": 43,
   "metadata": {},
   "outputs": [
    {
     "name": "stdout",
     "output_type": "stream",
     "text": [
      "(587257, 7)\n"
     ]
    }
   ],
   "source": [
    "frauds = df[df.label == 1]\n",
    "print(frauds.shape)"
   ]
  },
  {
   "cell_type": "code",
   "execution_count": 44,
   "metadata": {},
   "outputs": [
    {
     "data": {
      "text/plain": [
       "len                -0.380088\n",
       "spec_chars         -0.300798\n",
       "domain                   NaN\n",
       "depth              -0.610174\n",
       "numericals_count   -0.119344\n",
       "word_count         -0.109963\n",
       "label               1.000000\n",
       "Name: label, dtype: float64"
      ]
     },
     "execution_count": 44,
     "metadata": {},
     "output_type": "execute_result"
    }
   ],
   "source": [
    "df.corr()['label']"
   ]
  },
  {
   "cell_type": "code",
   "execution_count": 45,
   "metadata": {},
   "outputs": [
    {
     "name": "stdout",
     "output_type": "stream",
     "text": [
      "(932078, 6)\n"
     ]
    }
   ],
   "source": [
    "data = df.drop([\"domain\"], axis=1)\n",
    "print(data.shape)"
   ]
  },
  {
   "cell_type": "code",
   "execution_count": 46,
   "metadata": {},
   "outputs": [],
   "source": [
    "X = data.drop(columns = 'label').values\n",
    "Y = data['label']"
   ]
  },
  {
   "cell_type": "code",
   "execution_count": 48,
   "metadata": {},
   "outputs": [],
   "source": [
    "X_train, X_test, Y_train, Y_test = train_test_split(X,Y,test_size = 0.2)"
   ]
  },
  {
   "cell_type": "code",
   "execution_count": 65,
   "metadata": {},
   "outputs": [
    {
     "name": "stdout",
     "output_type": "stream",
     "text": [
      "(745662, 5)\n",
      "(186416, 5)\n",
      "(745662,)\n",
      "(186416,)\n"
     ]
    }
   ],
   "source": [
    "print(X_train.shape)\n",
    "print(X_test.shape)\n",
    "print(Y_train.shape)\n",
    "print(Y_test.shape)"
   ]
  },
  {
   "cell_type": "code",
   "execution_count": 50,
   "metadata": {},
   "outputs": [],
   "source": [
    "from keras import regularizers\n",
    "from keras.layers import Dense, Input\n",
    "from keras.callbacks import ModelCheckpoint, TensorBoard\n",
    "from keras.models import Model"
   ]
  },
  {
   "cell_type": "code",
   "execution_count": 51,
   "metadata": {},
   "outputs": [],
   "source": [
    "input_dim = X_train.shape[1]\n",
    "input_layer = Input(shape=(input_dim,))\n",
    "\n",
    "encoder = Dense(input_dim, activation=\"tanh\", activity_regularizer=regularizers.l1(10e-5))(input_layer)\n",
    "encoder = Dense(int(input_dim), activation=\"relu\")(encoder)\n",
    "encoder = Dense(int(input_dim - 2), activation=\"relu\")(encoder)\n",
    "code = Dense(int(input_dim - 4), activation=\"tanh\")(encoder)\n",
    "decoder = Dense(int(input_dim - 2), activation=\"tanh\")(code)\n",
    "\n",
    "decoder = Dense(int(input_dim), activation=\"tanh\")(encoder)\n",
    "decoder = Dense(input_dim, activation=\"relu\")(decoder)\n",
    "autoencoder = Model(inputs=input_layer, outputs=decoder)"
   ]
  },
  {
   "cell_type": "code",
   "execution_count": 57,
   "metadata": {},
   "outputs": [],
   "source": [
    "nb_epoch = 50\n",
    "batch_size = 100\n",
    "\n",
    "autoencoder.compile(optimizer=\"adam\", loss=\"mean_squared_error\", metrics=[\"accuracy\"])"
   ]
  },
  {
   "cell_type": "code",
   "execution_count": 58,
   "metadata": {},
   "outputs": [],
   "source": [
    "checkpointer = ModelCheckpoint(filepath=\"model.h5\", verbose=0, save_best_only=True)"
   ]
  },
  {
   "cell_type": "code",
   "execution_count": 59,
   "metadata": {},
   "outputs": [],
   "source": [
    "tensorboard = TensorBoard(log_dir=\"./logs\", histogram_freq=0, write_graph=True, write_images=True)"
   ]
  },
  {
   "cell_type": "code",
   "execution_count": 60,
   "metadata": {},
   "outputs": [
    {
     "name": "stdout",
     "output_type": "stream",
     "text": [
      "Epoch 1/50\n",
      "7457/7457 [==============================] - 30s 3ms/step - loss: 122.5201 - accuracy: 1.0000 - val_loss: 80.1382 - val_accuracy: 1.0000\n",
      "Epoch 2/50\n",
      "  71/7457 [..............................] - ETA: 16s - loss: 169.5503 - accuracy: 1.0000"
     ]
    },
    {
     "name": "stderr",
     "output_type": "stream",
     "text": [
      "c:\\Users\\khush\\AppData\\Local\\Programs\\Python\\Python311\\Lib\\site-packages\\keras\\src\\engine\\training.py:3000: UserWarning: You are saving your model as an HDF5 file via `model.save()`. This file format is considered legacy. We recommend using instead the native Keras format, e.g. `model.save('my_model.keras')`.\n",
      "  saving_api.save_model(\n"
     ]
    },
    {
     "name": "stdout",
     "output_type": "stream",
     "text": [
      "7457/7457 [==============================] - 20s 3ms/step - loss: 68.1820 - accuracy: 1.0000 - val_loss: 47.1437 - val_accuracy: 1.0000\n",
      "Epoch 3/50\n",
      "7457/7457 [==============================] - 19s 3ms/step - loss: 47.1018 - accuracy: 1.0000 - val_loss: 36.3594 - val_accuracy: 1.0000\n",
      "Epoch 4/50\n",
      "7457/7457 [==============================] - 19s 3ms/step - loss: 39.0359 - accuracy: 1.0000 - val_loss: 30.5528 - val_accuracy: 1.0000\n",
      "Epoch 5/50\n",
      "7457/7457 [==============================] - 19s 3ms/step - loss: 34.0230 - accuracy: 1.0000 - val_loss: 26.6978 - val_accuracy: 1.0000\n",
      "Epoch 6/50\n",
      "7457/7457 [==============================] - 19s 3ms/step - loss: 30.5131 - accuracy: 1.0000 - val_loss: 23.9652 - val_accuracy: 1.0000\n",
      "Epoch 7/50\n",
      "7457/7457 [==============================] - 19s 3ms/step - loss: 27.8561 - accuracy: 1.0000 - val_loss: 22.2232 - val_accuracy: 1.0000\n",
      "Epoch 8/50\n",
      "7457/7457 [==============================] - 19s 3ms/step - loss: 25.7475 - accuracy: 1.0000 - val_loss: 20.0972 - val_accuracy: 1.0000\n",
      "Epoch 9/50\n",
      "7457/7457 [==============================] - 18s 2ms/step - loss: 23.9980 - accuracy: 1.0000 - val_loss: 18.6864 - val_accuracy: 1.0000\n",
      "Epoch 10/50\n",
      "7457/7457 [==============================] - 20s 3ms/step - loss: 22.5982 - accuracy: 1.0000 - val_loss: 17.5491 - val_accuracy: 1.0000\n",
      "Epoch 11/50\n",
      "7457/7457 [==============================] - 22s 3ms/step - loss: 21.4490 - accuracy: 1.0000 - val_loss: 16.6497 - val_accuracy: 1.0000\n",
      "Epoch 12/50\n",
      "7457/7457 [==============================] - 17s 2ms/step - loss: 20.8083 - accuracy: 1.0000 - val_loss: 15.9025 - val_accuracy: 1.0000\n",
      "Epoch 13/50\n",
      "7457/7457 [==============================] - 17s 2ms/step - loss: 19.6650 - accuracy: 1.0000 - val_loss: 15.2044 - val_accuracy: 1.0000\n",
      "Epoch 14/50\n",
      "7457/7457 [==============================] - 16s 2ms/step - loss: 18.9548 - accuracy: 1.0000 - val_loss: 14.6793 - val_accuracy: 1.0000\n",
      "Epoch 15/50\n",
      "7457/7457 [==============================] - 16s 2ms/step - loss: 18.2722 - accuracy: 1.0000 - val_loss: 14.2790 - val_accuracy: 1.0000\n",
      "Epoch 16/50\n",
      "7457/7457 [==============================] - 17s 2ms/step - loss: 17.6915 - accuracy: 1.0000 - val_loss: 14.0787 - val_accuracy: 1.0000\n",
      "Epoch 17/50\n",
      "7457/7457 [==============================] - 17s 2ms/step - loss: 17.1421 - accuracy: 1.0000 - val_loss: 13.3210 - val_accuracy: 1.0000\n",
      "Epoch 18/50\n",
      "7457/7457 [==============================] - 16s 2ms/step - loss: 16.6255 - accuracy: 1.0000 - val_loss: 12.7480 - val_accuracy: 1.0000\n",
      "Epoch 19/50\n",
      "7457/7457 [==============================] - 16s 2ms/step - loss: 16.1819 - accuracy: 1.0000 - val_loss: 12.7220 - val_accuracy: 1.0000\n",
      "Epoch 20/50\n",
      "7457/7457 [==============================] - 17s 2ms/step - loss: 15.7843 - accuracy: 1.0000 - val_loss: 12.0164 - val_accuracy: 1.0000\n",
      "Epoch 21/50\n",
      "7457/7457 [==============================] - 16s 2ms/step - loss: 15.3754 - accuracy: 1.0000 - val_loss: 11.6044 - val_accuracy: 1.0000\n",
      "Epoch 22/50\n",
      "7457/7457 [==============================] - 18s 2ms/step - loss: 16.2167 - accuracy: 1.0000 - val_loss: 11.4566 - val_accuracy: 1.0000\n",
      "Epoch 23/50\n",
      "7457/7457 [==============================] - 16s 2ms/step - loss: 14.6261 - accuracy: 1.0000 - val_loss: 10.9655 - val_accuracy: 1.0000\n",
      "Epoch 24/50\n",
      "7457/7457 [==============================] - 17s 2ms/step - loss: 14.2036 - accuracy: 1.0000 - val_loss: 10.6521 - val_accuracy: 1.0000\n",
      "Epoch 25/50\n",
      "7457/7457 [==============================] - 16s 2ms/step - loss: 13.9165 - accuracy: 1.0000 - val_loss: 10.3621 - val_accuracy: 1.0000\n",
      "Epoch 26/50\n",
      "7457/7457 [==============================] - 17s 2ms/step - loss: 13.6781 - accuracy: 1.0000 - val_loss: 10.2381 - val_accuracy: 1.0000\n",
      "Epoch 27/50\n",
      "7457/7457 [==============================] - 17s 2ms/step - loss: 13.3607 - accuracy: 1.0000 - val_loss: 10.3874 - val_accuracy: 1.0000\n",
      "Epoch 28/50\n",
      "7457/7457 [==============================] - 17s 2ms/step - loss: 13.3222 - accuracy: 1.0000 - val_loss: 9.6146 - val_accuracy: 1.0000\n",
      "Epoch 29/50\n",
      "7457/7457 [==============================] - 16s 2ms/step - loss: 12.8484 - accuracy: 1.0000 - val_loss: 9.5529 - val_accuracy: 1.0000\n",
      "Epoch 30/50\n",
      "7457/7457 [==============================] - 16s 2ms/step - loss: 14.0811 - accuracy: 0.9999 - val_loss: 27.5833 - val_accuracy: 1.0000\n",
      "Epoch 31/50\n",
      "7457/7457 [==============================] - 16s 2ms/step - loss: 21.3034 - accuracy: 0.9986 - val_loss: 17.8690 - val_accuracy: 0.9982\n",
      "Epoch 32/50\n",
      "7457/7457 [==============================] - 17s 2ms/step - loss: 14.8564 - accuracy: 0.9998 - val_loss: 13.2644 - val_accuracy: 0.9984\n",
      "Epoch 33/50\n",
      "7457/7457 [==============================] - 16s 2ms/step - loss: 12.6830 - accuracy: 0.9998 - val_loss: 9.0010 - val_accuracy: 0.9999\n",
      "Epoch 34/50\n",
      "7457/7457 [==============================] - 16s 2ms/step - loss: 12.3528 - accuracy: 0.9999 - val_loss: 8.9554 - val_accuracy: 1.0000\n",
      "Epoch 35/50\n",
      "7457/7457 [==============================] - 16s 2ms/step - loss: 12.6287 - accuracy: 0.9998 - val_loss: 8.8038 - val_accuracy: 1.0000\n",
      "Epoch 36/50\n",
      "7457/7457 [==============================] - 17s 2ms/step - loss: 11.6432 - accuracy: 0.9999 - val_loss: 8.3542 - val_accuracy: 1.0000\n",
      "Epoch 37/50\n",
      "7457/7457 [==============================] - 16s 2ms/step - loss: 11.2579 - accuracy: 1.0000 - val_loss: 8.7967 - val_accuracy: 1.0000\n",
      "Epoch 38/50\n",
      "7457/7457 [==============================] - 17s 2ms/step - loss: 11.3001 - accuracy: 1.0000 - val_loss: 7.9301 - val_accuracy: 1.0000\n",
      "Epoch 39/50\n",
      "7457/7457 [==============================] - 16s 2ms/step - loss: 11.1058 - accuracy: 0.9999 - val_loss: 8.7517 - val_accuracy: 0.9975\n",
      "Epoch 40/50\n",
      "7457/7457 [==============================] - 18s 2ms/step - loss: 10.8591 - accuracy: 1.0000 - val_loss: 7.7330 - val_accuracy: 1.0000\n",
      "Epoch 41/50\n",
      "7457/7457 [==============================] - 18s 2ms/step - loss: 10.7286 - accuracy: 0.9998 - val_loss: 7.9610 - val_accuracy: 1.0000\n",
      "Epoch 42/50\n",
      "7457/7457 [==============================] - 17s 2ms/step - loss: 10.8904 - accuracy: 0.9999 - val_loss: 7.3611 - val_accuracy: 1.0000\n",
      "Epoch 43/50\n",
      "7457/7457 [==============================] - 16s 2ms/step - loss: 10.4581 - accuracy: 1.0000 - val_loss: 7.6081 - val_accuracy: 1.0000\n",
      "Epoch 44/50\n",
      "7457/7457 [==============================] - 17s 2ms/step - loss: 10.4218 - accuracy: 1.0000 - val_loss: 7.1905 - val_accuracy: 1.0000\n",
      "Epoch 45/50\n",
      "7457/7457 [==============================] - 17s 2ms/step - loss: 20.2822 - accuracy: 1.0000 - val_loss: 12.7559 - val_accuracy: 1.0000\n",
      "Epoch 46/50\n",
      "7457/7457 [==============================] - 17s 2ms/step - loss: 15.5684 - accuracy: 1.0000 - val_loss: 11.2541 - val_accuracy: 1.0000\n",
      "Epoch 47/50\n",
      "7457/7457 [==============================] - 17s 2ms/step - loss: 14.5112 - accuracy: 1.0000 - val_loss: 10.8673 - val_accuracy: 1.0000\n",
      "Epoch 48/50\n",
      "7457/7457 [==============================] - 17s 2ms/step - loss: 14.0923 - accuracy: 1.0000 - val_loss: 11.3960 - val_accuracy: 1.0000\n",
      "Epoch 49/50\n",
      "7457/7457 [==============================] - 16s 2ms/step - loss: 13.7426 - accuracy: 1.0000 - val_loss: 10.8628 - val_accuracy: 1.0000\n",
      "Epoch 50/50\n",
      "7457/7457 [==============================] - 17s 2ms/step - loss: 13.7358 - accuracy: 1.0000 - val_loss: 10.1164 - val_accuracy: 1.0000\n"
     ]
    }
   ],
   "source": [
    "history = autoencoder.fit(X_train,X_train,epochs=nb_epoch,batch_size=batch_size,\n",
    "        shuffle=True,validation_data=(X_test, X_test),verbose=1,\n",
    "        callbacks=[checkpointer, tensorboard],).history"
   ]
  },
  {
   "cell_type": "code",
   "execution_count": 61,
   "metadata": {},
   "outputs": [],
   "source": [
    "import matplotlib.pyplot as plt\n",
    "from keras.models import load_model\n",
    "import numpy as np\n",
    "from sklearn.metrics import confusion_matrix"
   ]
  },
  {
   "cell_type": "code",
   "execution_count": 62,
   "metadata": {},
   "outputs": [
    {
     "name": "stdout",
     "output_type": "stream",
     "text": [
      "5826/5826 [==============================] - 6s 943us/step\n",
      "Mean Squared Error is :  [0.4538501  3.9473109  2.17170653 ... 0.50160956 0.29350766 0.08503585]\n"
     ]
    }
   ],
   "source": [
    "autoencoder = load_model(\"model.h5\")\n",
    "predictions = autoencoder.predict(X_test)\n",
    "mse = np.mean(np.power(X_test - predictions, 2), axis=1)\n",
    "error_df = pd.DataFrame({\"reconstruction_error\": mse, \"true_class\": Y_test})\n",
    "print(\"Mean Squared Error is : \", mse)"
   ]
  },
  {
   "cell_type": "code",
   "execution_count": 63,
   "metadata": {},
   "outputs": [
    {
     "name": "stdout",
     "output_type": "stream",
     "text": [
      "TP:117718\n",
      "FP:68698\n",
      "TN:0\n",
      "FN:0\n",
      "Accuracy:0.6314801304609047\n",
      "Precision:0.6314801304609047\n",
      "Recall:1.0\n",
      "F1:0.7741193026757943\n"
     ]
    }
   ],
   "source": [
    "threshold = 0.0\n",
    "f1 = 0\n",
    "recall = 0\n",
    "accuracy = 0\n",
    "best_f1 = 0\n",
    "best_threshold = 0.0\n",
    "\n",
    "y_pred = [1 if e > threshold else 0 for e in error_df.reconstruction_error.values]\n",
    "conf_matrix = confusion_matrix(error_df.true_class, y_pred)\n",
    "tn, fp, fn, tp = conf_matrix.ravel()\n",
    "precision = 1.0 * tp / (tp + fp)\n",
    "recall = 1.0 * tp / (tp + fn)\n",
    "f1 = (2 * recall * precision) / (recall + precision)        \n",
    "print(f\"TP:{tp}\")\n",
    "print(f\"FP:{fp}\")\n",
    "print(f\"TN:{tn}\")\n",
    "print(f\"FN:{fn}\")\n",
    "accuracy = 1.0 * (tp + tn) / (tp + tn + fp + fn)\n",
    "print(f\"Accuracy:{accuracy}\")\n",
    "print(f\"Precision:{precision}\")\n",
    "print(f\"Recall:{recall}\")\n",
    "print(f\"F1:{f1}\")"
   ]
  },
  {
   "cell_type": "code",
   "execution_count": 64,
   "metadata": {},
   "outputs": [
    {
     "data": {
      "image/png": "[encoded data removed]",
      "text/plain": [
       "<Figure size 640x480 with 1 Axes>"
      ]
     },
     "metadata": {},
     "output_type": "display_data"
    }
   ],
   "source": [
    "groups = error_df.groupby(\"true_class\")\n",
    "fig, ax = plt.subplots()\n",
    "\n",
    "for name, group in groups:\n",
    "    ax.plot(group.index,group.reconstruction_error,\n",
    "            marker=\"o\",ms=2, linestyle=\"\",\n",
    "            label=\"Malicious URL\" if name == 1 else \"Normal URL\",\n",
    "            color=\"green\" if name == 1 else \"orange\",)\n",
    "ax.hlines(best_threshold, ax.get_xlim()[0], ax.get_xlim()[1], colors=\"red\", zorder=100, label=\"Threshold\")\n",
    "ax.legend()\n",
    "plt.title(\"Reconstruction error for different classes\")\n",
    "plt.ylabel(\"Reconstruction error\")\n",
    "plt.xlabel(\"Data point index\")\n",
    "plt.show()\n"
   ]
  },
  {
   "cell_type": "code",
   "execution_count": 66,
   "metadata": {},
   "outputs": [
    {
     "data": {
      "text/html": [
       "<div>\n",
       "<style scoped>\n",
       "    .dataframe tbody tr th:only-of-type {\n",
       "        vertical-align: middle;\n",
       "    }\n",
       "\n",
       "    .dataframe tbody tr th {\n",
       "        vertical-align: top;\n",
       "    }\n",
       "\n",
       "    .dataframe thead th {\n",
       "        text-align: right;\n",
       "    }\n",
       "</style>\n",
       "<table border=\"1\" class=\"dataframe\">\n",
       "  <thead>\n",
       "    <tr style=\"text-align: right;\">\n",
       "      <th></th>\n",
       "      <th>len</th>\n",
       "      <th>spec_chars</th>\n",
       "      <th>domain</th>\n",
       "      <th>depth</th>\n",
       "      <th>numericals_count</th>\n",
       "      <th>word_count</th>\n",
       "      <th>label</th>\n",
       "    </tr>\n",
       "  </thead>\n",
       "  <tbody>\n",
       "    <tr>\n",
       "      <th>0</th>\n",
       "      <td>17</td>\n",
       "      <td>1</td>\n",
       "      <td>0</td>\n",
       "      <td>0</td>\n",
       "      <td>0</td>\n",
       "      <td>1</td>\n",
       "      <td>1</td>\n",
       "    </tr>\n",
       "    <tr>\n",
       "      <th>1</th>\n",
       "      <td>30</td>\n",
       "      <td>2</td>\n",
       "      <td>0</td>\n",
       "      <td>0</td>\n",
       "      <td>0</td>\n",
       "      <td>1</td>\n",
       "      <td>1</td>\n",
       "    </tr>\n",
       "    <tr>\n",
       "      <th>2</th>\n",
       "      <td>35</td>\n",
       "      <td>2</td>\n",
       "      <td>0</td>\n",
       "      <td>0</td>\n",
       "      <td>0</td>\n",
       "      <td>1</td>\n",
       "      <td>1</td>\n",
       "    </tr>\n",
       "    <tr>\n",
       "      <th>3</th>\n",
       "      <td>22</td>\n",
       "      <td>1</td>\n",
       "      <td>0</td>\n",
       "      <td>0</td>\n",
       "      <td>0</td>\n",
       "      <td>1</td>\n",
       "      <td>1</td>\n",
       "    </tr>\n",
       "    <tr>\n",
       "      <th>4</th>\n",
       "      <td>23</td>\n",
       "      <td>2</td>\n",
       "      <td>0</td>\n",
       "      <td>0</td>\n",
       "      <td>0</td>\n",
       "      <td>1</td>\n",
       "      <td>1</td>\n",
       "    </tr>\n",
       "    <tr>\n",
       "      <th>...</th>\n",
       "      <td>...</td>\n",
       "      <td>...</td>\n",
       "      <td>...</td>\n",
       "      <td>...</td>\n",
       "      <td>...</td>\n",
       "      <td>...</td>\n",
       "      <td>...</td>\n",
       "    </tr>\n",
       "    <tr>\n",
       "      <th>932073</th>\n",
       "      <td>26</td>\n",
       "      <td>2</td>\n",
       "      <td>0</td>\n",
       "      <td>3</td>\n",
       "      <td>0</td>\n",
       "      <td>0</td>\n",
       "      <td>1</td>\n",
       "    </tr>\n",
       "    <tr>\n",
       "      <th>932074</th>\n",
       "      <td>27</td>\n",
       "      <td>2</td>\n",
       "      <td>0</td>\n",
       "      <td>4</td>\n",
       "      <td>0</td>\n",
       "      <td>0</td>\n",
       "      <td>1</td>\n",
       "    </tr>\n",
       "    <tr>\n",
       "      <th>932075</th>\n",
       "      <td>27</td>\n",
       "      <td>2</td>\n",
       "      <td>0</td>\n",
       "      <td>4</td>\n",
       "      <td>0</td>\n",
       "      <td>0</td>\n",
       "      <td>1</td>\n",
       "    </tr>\n",
       "    <tr>\n",
       "      <th>932076</th>\n",
       "      <td>18</td>\n",
       "      <td>1</td>\n",
       "      <td>0</td>\n",
       "      <td>0</td>\n",
       "      <td>0</td>\n",
       "      <td>0</td>\n",
       "      <td>1</td>\n",
       "    </tr>\n",
       "    <tr>\n",
       "      <th>932077</th>\n",
       "      <td>22</td>\n",
       "      <td>1</td>\n",
       "      <td>0</td>\n",
       "      <td>0</td>\n",
       "      <td>0</td>\n",
       "      <td>0</td>\n",
       "      <td>1</td>\n",
       "    </tr>\n",
       "  </tbody>\n",
       "</table>\n",
       "<p>932078 rows × 7 columns</p>\n",
       "</div>"
      ],
      "text/plain": [
       "        len  spec_chars  domain  depth  numericals_count  word_count  label\n",
       "0        17           1       0      0                 0           1      1\n",
       "1        30           2       0      0                 0           1      1\n",
       "2        35           2       0      0                 0           1      1\n",
       "3        22           1       0      0                 0           1      1\n",
       "4        23           2       0      0                 0           1      1\n",
       "...     ...         ...     ...    ...               ...         ...    ...\n",
       "932073   26           2       0      3                 0           0      1\n",
       "932074   27           2       0      4                 0           0      1\n",
       "932075   27           2       0      4                 0           0      1\n",
       "932076   18           1       0      0                 0           0      1\n",
       "932077   22           1       0      0                 0           0      1\n",
       "\n",
       "[932078 rows x 7 columns]"
      ]
     },
     "execution_count": 66,
     "metadata": {},
     "output_type": "execute_result"
    }
   ],
   "source": [
    "dataset = pd.read_csv(\"url_enriched_data.csv\")\n",
    "dataset"
   ]
  }
 ],
 "metadata": {
  "kernelspec": {
   "display_name": "Python 3",
   "language": "python",
   "name": "python3"
  },
  "language_info": {
   "codemirror_mode": {
    "name": "ipython",
    "version": 3
   },
   "file_extension": ".py",
   "mimetype": "text/x-python",
   "name": "python",
   "nbconvert_exporter": "python",
   "pygments_lexer": "ipython3",
   "version": "3.11.4"
  }
 },
 "nbformat": 4,
 "nbformat_minor": 2
}
